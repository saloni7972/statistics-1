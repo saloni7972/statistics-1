{
 "cells": [
  {
   "cell_type": "markdown",
   "id": "f7cf278c-bd8b-4f6d-9a3c-ba5f8e89da5c",
   "metadata": {},
   "source": [
    "24 MARCH ASSIGNMENT"
   ]
  },
  {
   "cell_type": "markdown",
   "id": "948b735f-db93-41b8-89aa-408c785b04d4",
   "metadata": {},
   "source": [
    "Q1. What is the Probability density function?"
   ]
  },
  {
   "cell_type": "markdown",
   "id": "afdc1513-8e31-45ad-8647-f95e90c5bf15",
   "metadata": {},
   "source": [
    "#ANSWER==\n",
    "The Probability Density Function(PDF) defines the probability function representing the density of a continuous random variable lying between a specific range of values. In other words, the probability density function produces the likelihood of values of the continuous random variable"
   ]
  },
  {
   "cell_type": "markdown",
   "id": "858128ba-fa15-4102-8781-34bf077d395f",
   "metadata": {},
   "source": [
    "Q2. What are the types of Probability distribution?"
   ]
  },
  {
   "cell_type": "markdown",
   "id": "48ea45e2-a041-48be-b6e6-8cf0c13697f6",
   "metadata": {},
   "source": [
    "#ANSWER==\n",
    "There are two types of probability distributions:\n",
    "1) Discrete probability distributions==A discrete probability distribution can be defined as a probability distribution giving the probability that a discrete random variable will have a specified value. Such a distribution will represent data that has a finite countable number of outcomes. There are two conditions that a discrete probability distribution must satisfy.\n",
    "\n",
    "2)Continuous probability distributions==Probability distributions are either continuous probability distributions or discrete probability distributions. A continuous distribution has a range of values that are infinite, and therefore uncountable."
   ]
  },
  {
   "cell_type": "markdown",
   "id": "bd8af384-c9f2-406a-b3cd-cd832c077696",
   "metadata": {},
   "source": [
    "Q3. Write a Python function to calculate the probability density function of a normal distribution with\n",
    "given mean and standard deviation at a given point."
   ]
  },
  {
   "cell_type": "code",
   "execution_count": null,
   "id": "eacee333-9297-4bf5-92cf-bc2b178c27f5",
   "metadata": {},
   "outputs": [],
   "source": [
    "#ANSWER==\n",
    "from scipy.stats import norm\n",
    "import numpy as np"
   ]
  },
  {
   "cell_type": "code",
   "execution_count": null,
   "id": "f6a042c3-b55c-4c1e-a835-6d1c9f6a2544",
   "metadata": {},
   "outputs": [],
   "source": [
    "data_start=-3\n",
    "data_end=3\n",
    "data_point=11\n",
    "data=np.linspace(data_start,data_end,data_point)"
   ]
  },
  {
   "cell_type": "code",
   "execution_count": null,
   "id": "63a0df11-7b67-4147-a98e-da24ccb69d01",
   "metadata": {},
   "outputs": [],
   "source": [
    "mean=np.mean(data)"
   ]
  },
  {
   "cell_type": "code",
   "execution_count": null,
   "id": "a4248ee7-e497-4e34-9c4d-1c6e3c9ddf28",
   "metadata": {},
   "outputs": [],
   "source": [
    "std=np.std(data)"
   ]
  },
  {
   "cell_type": "code",
   "execution_count": null,
   "id": "9c63d520-b2b4-4e3e-8df1-3837c86003be",
   "metadata": {},
   "outputs": [],
   "source": [
    "probability_pdf=norm.pdf(3,loc=mean,scale=std)\n",
    "print(probability_pdf)"
   ]
  },
  {
   "cell_type": "markdown",
   "id": "e54c1861-f970-4ced-9dfc-1690378d6483",
   "metadata": {},
   "source": [
    "Q4. What are the properties of Binomial distribution? Give two examples of events where binomial\n",
    "distribution can be applied."
   ]
  },
  {
   "cell_type": "markdown",
   "id": "9cb3c464-4d96-45e4-b7a6-6f30e8075d3a",
   "metadata": {},
   "source": [
    "#ANSWER==\n",
    "The properties of the binomial distribution are: \n",
    "There are two possible outcomes: true or false, success or failure, yes or no.\n",
    "There is 'n' number of independent trials or a fixed number of n times repeated trials. \n",
    "The probability of success or failure remains the same for each trial."
   ]
  },
  {
   "cell_type": "markdown",
   "id": "2ec5aeab-d8d2-4802-a6ba-94917d4f1e0c",
   "metadata": {},
   "source": [
    "Q5. Generate a random sample of size 1000 from a binomial distribution with probability of success 0.4"
   ]
  },
  {
   "cell_type": "markdown",
   "id": "31abba31-b810-4de7-8eed-cef024fd030d",
   "metadata": {},
   "source": [
    "#ANSWER==\n",
    "Binomial_distribution={n!}/{(n-r)!}* p^r * (1-p)^{n-r}    \n",
    " n=1000  ,  p=0.4   , q=(1-p)=0.6\n",
    "    "
   ]
  },
  {
   "cell_type": "code",
   "execution_count": 3,
   "id": "80e0479c-053a-42e8-8569-a66d9120b6eb",
   "metadata": {},
   "outputs": [],
   "source": [
    "from scipy.stats import binom\n",
    "import matplotlib.pyplot as plt"
   ]
  },
  {
   "cell_type": "code",
   "execution_count": null,
   "id": "cd9bce95-8c9f-4ec4-96f1-0b761680c62b",
   "metadata": {},
   "outputs": [],
   "source": [
    "n=1000\n",
    "p=0.4\n",
    "r_values=list(range(n+1))\n"
   ]
  },
  {
   "cell_type": "code",
   "execution_count": null,
   "id": "d361cd83-548a-4b5a-b6cb-5d06fa70a076",
   "metadata": {},
   "outputs": [],
   "source": [
    "dist = [binom.pmf(r, n, p) for r in r_values ]"
   ]
  },
  {
   "cell_type": "code",
   "execution_count": null,
   "id": "f83d8c82-0432-4caa-8a29-fa0147918774",
   "metadata": {},
   "outputs": [],
   "source": [
    "plt.bar(r_values,dist)\n",
    "plt.show()"
   ]
  },
  {
   "cell_type": "markdown",
   "id": "27afdcf5-fd5f-4f68-8220-00884587bf08",
   "metadata": {},
   "source": [
    "Q6. Write a Python function to calculate the cumulative distribution function of a Poisson distribution\n",
    "with given mean at a given point."
   ]
  },
  {
   "cell_type": "code",
   "execution_count": null,
   "id": "a8864d07-ca1b-4a7f-8843-98ccb5469ff7",
   "metadata": {},
   "outputs": [],
   "source": [
    "#ANSWER==\n",
    "from scipy.stats import poisson\n",
    "import numpy as np"
   ]
  },
  {
   "cell_type": "code",
   "execution_count": null,
   "id": "4544e816-315b-4540-b474-b463a24d9068",
   "metadata": {},
   "outputs": [],
   "source": [
    "mean=np.mean"
   ]
  },
  {
   "cell_type": "markdown",
   "id": "2546eb76-3c41-47c3-9511-f660dad4e6cf",
   "metadata": {},
   "source": [
    "Q7. How Binomial distribution different from Poisson distribution?"
   ]
  },
  {
   "cell_type": "markdown",
   "id": "bda2fd6f-a821-4622-a9f9-31ed093a02f9",
   "metadata": {},
   "source": [
    "#ANSWER==\n",
    "Binomial distribution describes the distribution of binary data from a finite sample. Thus it gives the probability of getting r events out of n trials.\n",
    "Poisson distribution describes the distribution of binary data from an infinite sample. Thus it gives the probability of getting r events in a population."
   ]
  },
  {
   "cell_type": "markdown",
   "id": "17c4608e-6abb-4c1b-96e5-18e3ac2a2407",
   "metadata": {},
   "source": [
    "Q8. Generate a random sample of size 1000 from a Poisson distribution with mean 5 and calculate the\n",
    "sample mean and variance."
   ]
  },
  {
   "cell_type": "code",
   "execution_count": null,
   "id": "6fba6ce8-d186-4ebe-aeb7-938e09624780",
   "metadata": {},
   "outputs": [],
   "source": [
    "#ANSWEEER==\n",
    "n=1000\n",
    "mean=λ is an average rate of value=5\n",
    "f(x) =(e^– λ)*λ^x)/x!\n",
    "In poisson distribution mean=variance=λ=5"
   ]
  },
  {
   "cell_type": "markdown",
   "id": "57f1c99f-8e8c-4338-9d07-9a881e3b6c9b",
   "metadata": {},
   "source": [
    "Q9. How mean and variance are related in Binomial distribution and Poisson distribution?"
   ]
  },
  {
   "cell_type": "markdown",
   "id": "6c9f76e6-d49d-4f1d-8aab-73975115254e",
   "metadata": {},
   "source": [
    "#ANSWER==\n",
    "The Poisson distribution is a limiting case of the binomial distribution which arises when the number of trials n increases indefinitely whilst the product μ = np, which is the expected value of the number of successes from the trials, remains constant.\n",
    "\n",
    "In binomial distribution,\n",
    "mean=np\n",
    "variance=npq=np(1-p)\n",
    "In poisson distribution,\n",
    "mean=variance=λ"
   ]
  },
  {
   "cell_type": "markdown",
   "id": "2736d5e1-d14b-4510-85c8-a7c5310ae782",
   "metadata": {},
   "source": [
    "Q10. In normal distribution with respect to mean position, where does the least frequent data appear?"
   ]
  },
  {
   "cell_type": "markdown",
   "id": "441cf8ca-9cec-4e2b-b835-386a13c56869",
   "metadata": {},
   "source": [
    "#ANSWER==\n",
    "IN normal distribution the mean=median=mode. The distribution is symmetric about the mean—half the values fall below the mean and half above the mean."
   ]
  }
 ],
 "metadata": {
  "kernelspec": {
   "display_name": "Python 3 (ipykernel)",
   "language": "python",
   "name": "python3"
  },
  "language_info": {
   "codemirror_mode": {
    "name": "ipython",
    "version": 3
   },
   "file_extension": ".py",
   "mimetype": "text/x-python",
   "name": "python",
   "nbconvert_exporter": "python",
   "pygments_lexer": "ipython3",
   "version": "3.10.8"
  }
 },
 "nbformat": 4,
 "nbformat_minor": 5
}
